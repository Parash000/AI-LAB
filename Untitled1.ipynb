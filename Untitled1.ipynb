{
  "nbformat": 4,
  "nbformat_minor": 0,
  "metadata": {
    "colab": {
      "provenance": [],
      "authorship_tag": "ABX9TyNEzHhwVjRgkCJffJQXYCqc",
      "include_colab_link": true
    },
    "kernelspec": {
      "name": "python3",
      "display_name": "Python 3"
    },
    "language_info": {
      "name": "python"
    }
  },
  "cells": [
    {
      "cell_type": "markdown",
      "metadata": {
        "id": "view-in-github",
        "colab_type": "text"
      },
      "source": [
        "<a href=\"https://colab.research.google.com/github/Parash000/AI-LAB/blob/main/Untitled1.ipynb\" target=\"_parent\"><img src=\"https://colab.research.google.com/assets/colab-badge.svg\" alt=\"Open In Colab\"/></a>"
      ]
    },
    {
      "cell_type": "code",
      "execution_count": 1,
      "metadata": {
        "colab": {
          "base_uri": "https://localhost:8080/"
        },
        "id": "aEdLUuSGcgaw",
        "outputId": "06edd2c5-0eb6-46ed-9012-dce9becd136b"
      },
      "outputs": [
        {
          "output_type": "stream",
          "name": "stdout",
          "text": [
            "enter no.371\n",
            "yes\n"
          ]
        }
      ],
      "source": [
        "num=int(input(\"enter no.\"))\n",
        "\n",
        "count=len(str(num))\n",
        "temp=num\n",
        "d=0\n",
        "res=0\n",
        "while num != 0:\n",
        "    d=num%10\n",
        "    res=res+d**count\n",
        "    num=num//10\n",
        "if(temp==res):\n",
        "    print(\"yes\")\n",
        "else:\n",
        "    print(\"no\")"
      ]
    }
  ]
}